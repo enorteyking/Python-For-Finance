{
 "cells": [
  {
   "cell_type": "markdown",
   "id": "eb6b743a",
   "metadata": {},
   "source": [
    "### Identifying Outliers"
   ]
  },
  {
   "cell_type": "markdown",
   "id": "a5a9346e",
   "metadata": {},
   "source": [
    "Note-  I am detecting outliers using the 'Three Sigma Approach'\n",
    "if x < U - 3s.d or x > U - 3s.d, then x is an outlier"
   ]
  },
  {
   "cell_type": "markdown",
   "id": "4f9a0a9a",
   "metadata": {},
   "source": [
    "0: Repeat the steps- *Converting prices to returns*:"
   ]
  },
  {
   "cell_type": "code",
   "execution_count": null,
   "id": "f8121790",
   "metadata": {},
   "outputs": [],
   "source": []
  }
 ],
 "metadata": {
  "kernelspec": {
   "display_name": "Python 3 (ipykernel)",
   "language": "python",
   "name": "python3"
  },
  "language_info": {
   "codemirror_mode": {
    "name": "ipython",
    "version": 3
   },
   "file_extension": ".py",
   "mimetype": "text/x-python",
   "name": "python",
   "nbconvert_exporter": "python",
   "pygments_lexer": "ipython3",
   "version": "3.11.5"
  }
 },
 "nbformat": 4,
 "nbformat_minor": 5
}
