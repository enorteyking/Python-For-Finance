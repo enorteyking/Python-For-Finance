{
 "cells": [
  {
   "cell_type": "markdown",
   "id": "682659d9",
   "metadata": {},
   "source": [
    "## Backtesting a Strategy Based on Simple Moving Average"
   ]
  },
  {
   "cell_type": "markdown",
   "id": "45fa3f8c",
   "metadata": {},
   "source": [
    "1. Import the libraries:"
   ]
  },
  {
   "cell_type": "code",
   "execution_count": 1,
   "id": "8ae48d0b",
   "metadata": {},
   "outputs": [
    {
     "name": "stdout",
     "output_type": "stream",
     "text": [
      "Requirement already satisfied: backtrader in c:\\users\\nking\\anaconda3\\lib\\site-packages (1.9.78.123)\n",
      "Note: you may need to restart the kernel to use updated packages.\n"
     ]
    }
   ],
   "source": [
    "pip install backtrader"
   ]
  },
  {
   "cell_type": "code",
   "execution_count": 2,
   "id": "b413a394",
   "metadata": {},
   "outputs": [],
   "source": [
    "from datetime import datetime\n",
    "import backtrader as bt"
   ]
  },
  {
   "cell_type": "markdown",
   "id": "67a313f1",
   "metadata": {},
   "source": [
    "2. Define a class representing the trading strategy:"
   ]
  },
  {
   "cell_type": "code",
   "execution_count": 3,
   "id": "eec3e4c1",
   "metadata": {},
   "outputs": [],
   "source": [
    "class (bt.Signal):\n",
    "    params = (('period', 20), )\n",
    "    \n",
    "    def __init__(self):\n",
    "        self.lines.signal = self.data - bt.ind.SMA(period=self.p.period)"
   ]
  },
  {
   "cell_type": "markdown",
   "id": "0239260a",
   "metadata": {},
   "source": [
    "3. Download data from Yahoo Finance:"
   ]
  },
  {
   "cell_type": "code",
   "execution_count": 4,
   "id": "0eb097ec",
   "metadata": {},
   "outputs": [],
   "source": [
    "data = bt.feeds.YahooFinanceData(dataname='AAPL',\n",
    "                                fromdate=datetime(2018, 1, 1),\n",
    "                                todate=datetime(2018, 12, 31))"
   ]
  },
  {
   "cell_type": "markdown",
   "id": "42c9a5e8",
   "metadata": {},
   "source": [
    "4. Set up the backtest:"
   ]
  },
  {
   "cell_type": "code",
   "execution_count": 16,
   "id": "016b5086",
   "metadata": {},
   "outputs": [],
   "source": [
    "cerebro = bt.Cerebro(stdstats = False)\n",
    "\n",
    "cerebro.adddata(data)\n",
    "cerebro.broker.setcash(1000.0)\n",
    "cerebro.add_signal(bt.SIGNAL_LONG, SmaSignal)\n",
    "cerebro.addobserver(bt.observers.BuySell)\n",
    "cerebro.addobserver(bt.observers.Value)"
   ]
  },
  {
   "cell_type": "markdown",
   "id": "ef5ab7f9",
   "metadata": {},
   "source": [
    "5. Run the backtest:"
   ]
  },
  {
   "cell_type": "code",
   "execution_count": 14,
   "id": "b54f58a9",
   "metadata": {},
   "outputs": [
    {
     "ename": "NameError",
     "evalue": "name 'requests' is not defined",
     "output_type": "error",
     "traceback": [
      "\u001b[1;31m---------------------------------------------------------------------------\u001b[0m",
      "\u001b[1;31mNameError\u001b[0m                                 Traceback (most recent call last)",
      "Cell \u001b[1;32mIn[14], line 2\u001b[0m\n\u001b[0;32m      1\u001b[0m crumb \u001b[38;5;241m=\u001b[39m \u001b[38;5;28;01mNone\u001b[39;00m\n\u001b[1;32m----> 2\u001b[0m sess \u001b[38;5;241m=\u001b[39m requests\u001b[38;5;241m.\u001b[39msession()\n\u001b[0;32m      3\u001b[0m sess\u001b[38;5;241m.\u001b[39mheaders[\u001b[38;5;124m'\u001b[39m\u001b[38;5;124mUser-Agent\u001b[39m\u001b[38;5;124m'\u001b[39m] \u001b[38;5;241m=\u001b[39m \u001b[38;5;124m'\u001b[39m\u001b[38;5;124mbacktrader\u001b[39m\u001b[38;5;124m'\u001b[39m\n",
      "\u001b[1;31mNameError\u001b[0m: name 'requests' is not defined"
     ]
    }
   ],
   "source": []
  },
  {
   "cell_type": "code",
   "execution_count": 17,
   "id": "53ce2b0e",
   "metadata": {},
   "outputs": [
    {
     "name": "stdout",
     "output_type": "stream",
     "text": [
      "Starting Portfolio Value: 1000.00\n",
      "Final Portfolio Value: 1000.00\n"
     ]
    }
   ],
   "source": [
    "print(f'Starting Portfolio Value: {cerebro.broker.getvalue():.2f}')\n",
    "\n",
    "#cerebro.run()\n",
    "print(f'Final Portfolio Value: {cerebro.broker.getvalue():.2f}')"
   ]
  },
  {
   "cell_type": "markdown",
   "id": "e81e9f86",
   "metadata": {},
   "source": [
    "6. Plot the results:"
   ]
  },
  {
   "cell_type": "code",
   "execution_count": 18,
   "id": "676177ff",
   "metadata": {},
   "outputs": [
    {
     "ename": "AttributeError",
     "evalue": "'Cerebro' object has no attribute '_exactbars'",
     "output_type": "error",
     "traceback": [
      "\u001b[1;31m---------------------------------------------------------------------------\u001b[0m",
      "\u001b[1;31mAttributeError\u001b[0m                            Traceback (most recent call last)",
      "Cell \u001b[1;32mIn[18], line 1\u001b[0m\n\u001b[1;32m----> 1\u001b[0m cerebro\u001b[38;5;241m.\u001b[39mplot(iplot\u001b[38;5;241m=\u001b[39m\u001b[38;5;28;01mTrue\u001b[39;00m, volume\u001b[38;5;241m=\u001b[39m\u001b[38;5;28;01mFalse\u001b[39;00m)\n",
      "File \u001b[1;32m~\\anaconda3\\Lib\\site-packages\\backtrader\\cerebro.py:975\u001b[0m, in \u001b[0;36mCerebro.plot\u001b[1;34m(self, plotter, numfigs, iplot, start, end, width, height, dpi, tight, use, **kwargs)\u001b[0m\n\u001b[0;32m    941\u001b[0m \u001b[38;5;28;01mdef\u001b[39;00m \u001b[38;5;21mplot\u001b[39m(\u001b[38;5;28mself\u001b[39m, plotter\u001b[38;5;241m=\u001b[39m\u001b[38;5;28;01mNone\u001b[39;00m, numfigs\u001b[38;5;241m=\u001b[39m\u001b[38;5;241m1\u001b[39m, iplot\u001b[38;5;241m=\u001b[39m\u001b[38;5;28;01mTrue\u001b[39;00m, start\u001b[38;5;241m=\u001b[39m\u001b[38;5;28;01mNone\u001b[39;00m, end\u001b[38;5;241m=\u001b[39m\u001b[38;5;28;01mNone\u001b[39;00m,\n\u001b[0;32m    942\u001b[0m          width\u001b[38;5;241m=\u001b[39m\u001b[38;5;241m16\u001b[39m, height\u001b[38;5;241m=\u001b[39m\u001b[38;5;241m9\u001b[39m, dpi\u001b[38;5;241m=\u001b[39m\u001b[38;5;241m300\u001b[39m, tight\u001b[38;5;241m=\u001b[39m\u001b[38;5;28;01mTrue\u001b[39;00m, use\u001b[38;5;241m=\u001b[39m\u001b[38;5;28;01mNone\u001b[39;00m,\n\u001b[0;32m    943\u001b[0m          \u001b[38;5;241m*\u001b[39m\u001b[38;5;241m*\u001b[39mkwargs):\n\u001b[0;32m    944\u001b[0m \u001b[38;5;250m    \u001b[39m\u001b[38;5;124;03m'''\u001b[39;00m\n\u001b[0;32m    945\u001b[0m \u001b[38;5;124;03m    Plots the strategies inside cerebro\u001b[39;00m\n\u001b[0;32m    946\u001b[0m \n\u001b[1;32m   (...)\u001b[0m\n\u001b[0;32m    973\u001b[0m \u001b[38;5;124;03m    ``tight``: only save actual content and not the frame of the figure\u001b[39;00m\n\u001b[0;32m    974\u001b[0m \u001b[38;5;124;03m    '''\u001b[39;00m\n\u001b[1;32m--> 975\u001b[0m     \u001b[38;5;28;01mif\u001b[39;00m \u001b[38;5;28mself\u001b[39m\u001b[38;5;241m.\u001b[39m_exactbars \u001b[38;5;241m>\u001b[39m \u001b[38;5;241m0\u001b[39m:\n\u001b[0;32m    976\u001b[0m         \u001b[38;5;28;01mreturn\u001b[39;00m\n\u001b[0;32m    978\u001b[0m     \u001b[38;5;28;01mif\u001b[39;00m \u001b[38;5;129;01mnot\u001b[39;00m plotter:\n",
      "\u001b[1;31mAttributeError\u001b[0m: 'Cerebro' object has no attribute '_exactbars'"
     ]
    }
   ],
   "source": [
    "cerebro.plot(iplot=True, volume=False)"
   ]
  },
  {
   "cell_type": "markdown",
   "id": "ec1e9e9c",
   "metadata": {},
   "source": [
    "### So errors happening because the YahooDataFinance servers are unstable to run backtraders' attribute 'cerebro'"
   ]
  },
  {
   "cell_type": "code",
   "execution_count": null,
   "id": "53dd6764",
   "metadata": {},
   "outputs": [],
   "source": []
  }
 ],
 "metadata": {
  "kernelspec": {
   "display_name": "Python 3 (ipykernel)",
   "language": "python",
   "name": "python3"
  },
  "language_info": {
   "codemirror_mode": {
    "name": "ipython",
    "version": 3
   },
   "file_extension": ".py",
   "mimetype": "text/x-python",
   "name": "python",
   "nbconvert_exporter": "python",
   "pygments_lexer": "ipython3",
   "version": "3.11.5"
  }
 },
 "nbformat": 4,
 "nbformat_minor": 5
}
