{
 "cells": [
  {
   "cell_type": "markdown",
   "id": "9800f660",
   "metadata": {},
   "source": [
    "## Testing for stationarity in time series"
   ]
  },
  {
   "cell_type": "markdown",
   "id": "05ca31d8",
   "metadata": {},
   "source": [
    "0: Download the data:"
   ]
  },
  {
   "cell_type": "code",
   "execution_count": 1,
   "id": "52138e85",
   "metadata": {},
   "outputs": [],
   "source": [
    "import pandas as pd\n",
    "import quandl"
   ]
  },
  {
   "cell_type": "code",
   "execution_count": 2,
   "id": "e588614b",
   "metadata": {},
   "outputs": [],
   "source": [
    "QUANDL_KEY = '15L4ky9aN_bF_6uss8CA' # replace {key} with your own API key  \n",
    "quandl.ApiConfig.api_key = QUANDL_KEY\n",
    "\n",
    "df = quandl.get(dataset='WGC/GOLD_MONAVG_USD',\n",
    "               start_date='2000-01-01', \n",
    "               end_date='2011-12-31')\n",
    "\n",
    "df.rename(columns={'Value': 'price'}, inplace=True)\n",
    "df = df.resample('M').last()"
   ]
  },
  {
   "cell_type": "markdown",
   "id": "ca3a70d3",
   "metadata": {},
   "source": [
    "1. Import the libraries:"
   ]
  },
  {
   "cell_type": "code",
   "execution_count": 3,
   "id": "3861eaab",
   "metadata": {},
   "outputs": [],
   "source": [
    "import pandas as pd\n",
    "from statsmodels.graphics.tsaplots import plot_acf, plot_pacf\n",
    "from statsmodels.tsa.stattools import adfuller, kpss"
   ]
  },
  {
   "cell_type": "markdown",
   "id": "e37176dc",
   "metadata": {},
   "source": [
    "2. Define a function for running the ADF test:"
   ]
  },
  {
   "cell_type": "code",
   "execution_count": 4,
   "id": "78f3abe8",
   "metadata": {},
   "outputs": [],
   "source": [
    "def adf_test(x):\n",
    "    '''\n",
    "    Function for performing the Augmented Dickey-Fuller test for stationarity\n",
    "    \n",
    "    Null Hypothesis: time series is not stationary\n",
    "    Alternate Hypothesis: time series is stationary\n",
    "    \n",
    "    Parameters\n",
    "    ----------\n",
    "    x : pd.Series / np.array\n",
    "    The time series to be checked for stationarity\n",
    "    \n",
    "    Returns\n",
    "    -------\n",
    "    results: pd.DataFrame\n",
    "    A DataFrame with the ADF test's results\n",
    "    '''\n",
    "    \n",
    "    indices = ['Test Statistic', 'p-value',\n",
    "               '# of Lags Used', '# of Observations Used']\n",
    "    \n",
    "    adf_test = adfuller(x, autolag='AIC')\n",
    "    results = pd.Series(adf_test[0:4], index=indices)\n",
    "    \n",
    "    for key, value in adf_test[4].items():\n",
    "        results[f'Critical Value ({key})'] = value\n",
    "    \n",
    "    return results"
   ]
  },
  {
   "cell_type": "code",
   "execution_count": 5,
   "id": "274db54c",
   "metadata": {},
   "outputs": [
    {
     "data": {
      "text/plain": [
       "Test Statistic              3.510499\n",
       "p-value                     1.000000\n",
       "# of Lags Used             14.000000\n",
       "# of Observations Used    129.000000\n",
       "Critical Value (1%)        -3.482088\n",
       "Critical Value (5%)        -2.884219\n",
       "Critical Value (10%)       -2.578864\n",
       "dtype: float64"
      ]
     },
     "execution_count": 5,
     "metadata": {},
     "output_type": "execute_result"
    }
   ],
   "source": [
    "adf_test(df.price)"
   ]
  },
  {
   "cell_type": "markdown",
   "id": "46619df4",
   "metadata": {},
   "source": [
    "3. Define a function for running the KPSS test:"
   ]
  },
  {
   "cell_type": "code",
   "execution_count": 6,
   "id": "60a8407b",
   "metadata": {},
   "outputs": [],
   "source": [
    "def kpss_test(x, h0_type='c'):\n",
    "    '''\n",
    "    Function for performing the Kwiatkowski-Phillips-Schmidt-Shin test for stationarity\n",
    "    \n",
    "    Null Hypothesis: time series is stationary\n",
    "    Alternate Hypothesis: time series is not stationary\n",
    "    \n",
    "    Parameters\n",
    "    ----------\n",
    "    x: pd.Series / np.array\n",
    "    The time series to be checked for stationarity\n",
    "    h0_type: str{'c', 'ct'}\n",
    "    Indicates the null hypothesis of the KPSS test:\n",
    "    * 'c': The data is stationary around a constant(default)\n",
    "    * 'ct': The data is stationary around a trend\n",
    "        \n",
    "    Returns\n",
    "    -------\n",
    "    results: pd.DataFrame\n",
    "    A DataFrame with the KPSS test's results\n",
    "    '''\n",
    "            \n",
    "    indices = ['Test Statistic', 'p-value', '# of Lags']\n",
    "            \n",
    "    kpss_test = kpss(x, regression=h0_type)\n",
    "    results = pd.Series(kpss_test[0:3], index=indices)\n",
    "            \n",
    "    for key, value in kpss_test[3].items():\n",
    "        results[f'Critical Value ({key})'] = value\n",
    "            \n",
    "    return results"
   ]
  },
  {
   "cell_type": "code",
   "execution_count": 7,
   "id": "ca06ab80",
   "metadata": {},
   "outputs": [
    {
     "name": "stderr",
     "output_type": "stream",
     "text": [
      "C:\\Users\\nking\\AppData\\Local\\Temp\\ipykernel_2800\\2978501574.py:25: InterpolationWarning: The test statistic is outside of the range of p-values available in the\n",
      "look-up table. The actual p-value is smaller than the p-value returned.\n",
      "\n",
      "  kpss_test = kpss(x, regression=h0_type)\n"
     ]
    },
    {
     "data": {
      "text/plain": [
       "Test Statistic           1.539929\n",
       "p-value                  0.010000\n",
       "# of Lags                8.000000\n",
       "Critical Value (10%)     0.347000\n",
       "Critical Value (5%)      0.463000\n",
       "Critical Value (2.5%)    0.574000\n",
       "Critical Value (1%)      0.739000\n",
       "dtype: float64"
      ]
     },
     "execution_count": 7,
     "metadata": {},
     "output_type": "execute_result"
    }
   ],
   "source": [
    "kpss_test(df.price)"
   ]
  },
  {
   "cell_type": "markdown",
   "id": "3792caa5",
   "metadata": {},
   "source": [
    "4. Generate the ACF/PACF plots:"
   ]
  },
  {
   "cell_type": "code",
   "execution_count": 8,
   "id": "f72f69e9",
   "metadata": {},
   "outputs": [
    {
     "data": {
      "image/png": "[encoded data removed]",
      "text/plain": [
       "<Figure size 640x480 with 2 Axes>"
      ]
     },
     "metadata": {},
     "output_type": "display_data"
    }
   ],
   "source": [
    "import matplotlib.pyplot as plt\n",
    "\n",
    "N_LAGS = 40\n",
    "SIGNIFICANCE_LEVEL = 0.05\n",
    "\n",
    "fig, ax = plt.subplots(2, 1)\n",
    "plot_acf(df.price, ax=ax[0], lags=N_LAGS, \n",
    "        alpha=SIGNIFICANCE_LEVEL)\n",
    "plot_pacf(df.price, ax=ax[1], lags=N_LAGS, \n",
    "         alpha=SIGNIFICANCE_LEVEL)\n",
    "\n",
    "plt.tight_layout()\n",
    "plt.show()"
   ]
  },
  {
   "cell_type": "code",
   "execution_count": null,
   "id": "f1f41209",
   "metadata": {},
   "outputs": [],
   "source": []
  }
 ],
 "metadata": {
  "kernelspec": {
   "display_name": "Python 3 (ipykernel)",
   "language": "python",
   "name": "python3"
  },
  "language_info": {
   "codemirror_mode": {
    "name": "ipython",
    "version": 3
   },
   "file_extension": ".py",
   "mimetype": "text/x-python",
   "name": "python",
   "nbconvert_exporter": "python",
   "pygments_lexer": "ipython3",
   "version": "3.11.5"
  }
 },
 "nbformat": 4,
 "nbformat_minor": 5
}
